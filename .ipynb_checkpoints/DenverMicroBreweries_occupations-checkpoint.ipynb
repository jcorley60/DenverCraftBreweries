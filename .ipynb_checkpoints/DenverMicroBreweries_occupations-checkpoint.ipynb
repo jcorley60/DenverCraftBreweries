{
 "cells": [
  {
   "cell_type": "markdown",
   "id": "7f738530",
   "metadata": {},
   "source": [
    "# Occupations Associated with high Alcohol Consumption\n",
    "* This file serves to analyze occupations associated with higher than average alcohol consumption.\n",
    "* We are able to search for these occupations given our Comparative Profile\n",
    "* https://alcohol.org/professions/"
   ]
  },
  {
   "cell_type": "code",
   "execution_count": 1,
   "id": "fd1f7b38",
   "metadata": {},
   "outputs": [],
   "source": [
    "import os                       # For working in different directories\n",
    "import numpy as np              # Data Libraries\n",
    "import pandas as pd             # Data Libraries\n",
    "import matplotlib.pyplot as plt # Visualization Library\n",
    "import seaborn as sns           # Visualization Library\n",
    "import geopandas as gpd         # geospatial library \n",
    "import requests                 # GET/Web Requests\n",
    "from bs4 import BeautifulSoup   # Web scraping\n",
    "import yaml                     # working w/ config file\n",
    "from importnb import imports    # load other Jupyter Notebooks inside of this notebook"
   ]
  },
  {
   "cell_type": "markdown",
   "id": "c7873fa2",
   "metadata": {},
   "source": [
    "### From website create DataFrame"
   ]
  },
  {
   "cell_type": "code",
   "execution_count": 6,
   "id": "4291bc6c",
   "metadata": {},
   "outputs": [
    {
     "data": {
      "text/html": [
       "<div>\n",
       "<style scoped>\n",
       "    .dataframe tbody tr th:only-of-type {\n",
       "        vertical-align: middle;\n",
       "    }\n",
       "\n",
       "    .dataframe tbody tr th {\n",
       "        vertical-align: top;\n",
       "    }\n",
       "\n",
       "    .dataframe thead th {\n",
       "        text-align: right;\n",
       "    }\n",
       "</style>\n",
       "<table border=\"1\" class=\"dataframe\">\n",
       "  <thead>\n",
       "    <tr style=\"text-align: right;\">\n",
       "      <th></th>\n",
       "      <th>occupation</th>\n",
       "      <th>consumption_rate</th>\n",
       "    </tr>\n",
       "  </thead>\n",
       "  <tbody>\n",
       "    <tr>\n",
       "      <th>0</th>\n",
       "      <td>lawyers</td>\n",
       "      <td>20.0</td>\n",
       "    </tr>\n",
       "    <tr>\n",
       "      <th>2</th>\n",
       "      <td>mining</td>\n",
       "      <td>17.5</td>\n",
       "    </tr>\n",
       "    <tr>\n",
       "      <th>3</th>\n",
       "      <td>construction</td>\n",
       "      <td>16.5</td>\n",
       "    </tr>\n",
       "    <tr>\n",
       "      <th>1</th>\n",
       "      <td>nurses_and_healthcare_prof</td>\n",
       "      <td>15.0</td>\n",
       "    </tr>\n",
       "    <tr>\n",
       "      <th>4</th>\n",
       "      <td>hospitality</td>\n",
       "      <td>11.8</td>\n",
       "    </tr>\n",
       "    <tr>\n",
       "      <th>5</th>\n",
       "      <td>arts_and_entertainment</td>\n",
       "      <td>11.5</td>\n",
       "    </tr>\n",
       "  </tbody>\n",
       "</table>\n",
       "</div>"
      ],
      "text/plain": [
       "                   occupation  consumption_rate\n",
       "0                     lawyers              20.0\n",
       "2                      mining              17.5\n",
       "3                construction              16.5\n",
       "1  nurses_and_healthcare_prof              15.0\n",
       "4                 hospitality              11.8\n",
       "5      arts_and_entertainment              11.5"
      ]
     },
     "execution_count": 6,
     "metadata": {},
     "output_type": "execute_result"
    }
   ],
   "source": [
    "occ_dict = {\n",
    "    'occupation': ['lawyers', 'nurses_and_healthcare_prof', 'mining', 'construction', 'hospitality', 'arts_and_entertainment'], \n",
    "    'consumption_rate': [20, 15, 17.5, 16.5, 11.8, 11.5]\n",
    "}\n",
    "\n",
    "df_occ = pd.DataFrame(occ_dict)\n",
    "df_occ.sort_values(by='prof_cons_rate', ascending=False)"
   ]
  },
  {
   "cell_type": "code",
   "execution_count": null,
   "id": "b076d700",
   "metadata": {},
   "outputs": [],
   "source": []
  },
  {
   "cell_type": "code",
   "execution_count": null,
   "id": "aaa65754",
   "metadata": {},
   "outputs": [],
   "source": []
  },
  {
   "cell_type": "code",
   "execution_count": null,
   "id": "0be40b23",
   "metadata": {},
   "outputs": [],
   "source": []
  },
  {
   "cell_type": "code",
   "execution_count": null,
   "id": "936afdfe",
   "metadata": {},
   "outputs": [],
   "source": []
  },
  {
   "cell_type": "code",
   "execution_count": null,
   "id": "11dc5119",
   "metadata": {},
   "outputs": [],
   "source": []
  },
  {
   "cell_type": "code",
   "execution_count": null,
   "id": "16531c79",
   "metadata": {},
   "outputs": [],
   "source": []
  },
  {
   "cell_type": "code",
   "execution_count": null,
   "id": "096cc4f6",
   "metadata": {},
   "outputs": [],
   "source": []
  },
  {
   "cell_type": "code",
   "execution_count": null,
   "id": "d68ae474",
   "metadata": {},
   "outputs": [],
   "source": []
  },
  {
   "cell_type": "code",
   "execution_count": null,
   "id": "eb33d676",
   "metadata": {},
   "outputs": [],
   "source": []
  },
  {
   "cell_type": "code",
   "execution_count": null,
   "id": "52b471f3",
   "metadata": {},
   "outputs": [],
   "source": []
  }
 ],
 "metadata": {
  "kernelspec": {
   "display_name": "Python 3 (ipykernel)",
   "language": "python",
   "name": "python3"
  },
  "language_info": {
   "codemirror_mode": {
    "name": "ipython",
    "version": 3
   },
   "file_extension": ".py",
   "mimetype": "text/x-python",
   "name": "python",
   "nbconvert_exporter": "python",
   "pygments_lexer": "ipython3",
   "version": "3.11.5"
  }
 },
 "nbformat": 4,
 "nbformat_minor": 5
}
