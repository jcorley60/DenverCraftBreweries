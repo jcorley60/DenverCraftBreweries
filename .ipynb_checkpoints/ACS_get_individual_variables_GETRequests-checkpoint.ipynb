{
 "cells": [
  {
   "cell_type": "code",
   "execution_count": null,
   "id": "57c3d09f",
   "metadata": {},
   "outputs": [],
   "source": []
  },
  {
   "cell_type": "code",
   "execution_count": null,
   "id": "e3b83a0d",
   "metadata": {},
   "outputs": [],
   "source": []
  },
  {
   "cell_type": "code",
   "execution_count": null,
   "id": "ecb5e708",
   "metadata": {},
   "outputs": [],
   "source": []
  },
  {
   "cell_type": "code",
   "execution_count": null,
   "id": "ef7ff610",
   "metadata": {},
   "outputs": [],
   "source": [
    "def get_data(tblid, year, dataset, state):\n",
    "    \"\"\"Get ACS 1 or 5-Year Table Data for All Geographies in a State.\n",
    "    From official US Census Bureau: \n",
    "    <https://github.com/Census-ACS/acs-summary-file/blob/master/Python/example1.py>\n",
    "    \n",
    "    returns:\n",
    "    .dat file\n",
    "    \"\"\"\n",
    "        \n",
    "    #define urls for data and geography, update for new 2021 1yr location\n",
    "    data_url = f\"https://www2.census.gov/programs-surveys/acs/summary_file/{year}/table-based-SF/data/{dataset}YRData/acsdt{dataset}y{year}-{tblid}.dat\"\n",
    "    geo_url = f\"https://www2.census.gov/programs-surveys/acs/summary_file/{year}/table-based-SF/documentation/Geos{year}{dataset}YR.txt\"\n",
    "\n",
    "    #read data into dataframe\n",
    "    data = pd.read_csv(data_url, sep='|', index_col=\"GEO_ID\")\n",
    "    geos = pd.read_csv(geo_url, sep='|', index_col=\"GEO_ID\")\n",
    "\n",
    "    #add geo file names and search for state\n",
    "    data = data.join(geos[[\"NAME\", \"STUSAB\"]])\n",
    "    data = data.loc[data[\"STUSAB\"] == state]\n",
    "\n",
    "    #output\n",
    "    data.to_csv(f\"{tblid}.dat\", sep=\"|\")\n",
    "    print(f\"Done. {tblid}.dat created\")"
   ]
  },
  {
   "cell_type": "markdown",
   "id": "44370afc",
   "metadata": {},
   "source": [
    "### Create Demographic Files\n",
    "https://censusreporter.org/topics/table-codes/ - useful for determining various metric codes needed to create files\n",
    "\n",
    "* `b01003`: Total Population\n",
    "    - https://api.census.gov/data/2021/acs/acs5/groups/B01003.html\n",
    "    - `B01003_E001` - Total population estimate\n",
    "    - `B01003_M001` - Total Margin of Error\n",
    "* "
   ]
  },
  {
   "cell_type": "code",
   "execution_count": null,
   "id": "370fcf5f",
   "metadata": {},
   "outputs": [],
   "source": [
    "acs_dict = {\n",
    "    'b01003': 'tot_pop', \n",
    "    '':''\n",
    "}"
   ]
  },
  {
   "cell_type": "code",
   "execution_count": null,
   "id": "6a1d5e0a",
   "metadata": {},
   "outputs": [],
   "source": [
    "get_data(\"b01003\", 2021, 5, \"CO\")"
   ]
  },
  {
   "cell_type": "code",
   "execution_count": null,
   "id": "4fb25525",
   "metadata": {},
   "outputs": [],
   "source": [
    "pd.read_csv('b01003.dat', delimiter='|')"
   ]
  },
  {
   "cell_type": "code",
   "execution_count": null,
   "id": "3ab24c59",
   "metadata": {},
   "outputs": [],
   "source": [
    "df_acs_5yr = pd.read_csv('b01003.dat', delimiter='|')\n",
    "print(\"Null values:\\n\", df_acs_5yr.isnull().sum(), sep='')\n",
    "df_acs_5yr.rename(columns={'GEO_ID': 'AFFGEOID'}, inplace=True)\n",
    "df_acs_5yr"
   ]
  },
  {
   "cell_type": "code",
   "execution_count": null,
   "id": "ac9acc42",
   "metadata": {},
   "outputs": [],
   "source": [
    "gdf_msa_places.merge(df_acs_5yr, how='inner', on=['AFFGEOID']).head()"
   ]
  },
  {
   "cell_type": "code",
   "execution_count": null,
   "id": "d724094f",
   "metadata": {},
   "outputs": [],
   "source": [
    "gdf_msa_places.head(2)"
   ]
  },
  {
   "cell_type": "code",
   "execution_count": null,
   "id": "e95c04dd",
   "metadata": {},
   "outputs": [],
   "source": []
  },
  {
   "cell_type": "code",
   "execution_count": null,
   "id": "f36b18a9",
   "metadata": {},
   "outputs": [],
   "source": []
  },
  {
   "cell_type": "code",
   "execution_count": null,
   "id": "3ca915a1",
   "metadata": {},
   "outputs": [],
   "source": []
  }
 ],
 "metadata": {
  "kernelspec": {
   "display_name": "Python 3 (ipykernel)",
   "language": "python",
   "name": "python3"
  },
  "language_info": {
   "codemirror_mode": {
    "name": "ipython",
    "version": 3
   },
   "file_extension": ".py",
   "mimetype": "text/x-python",
   "name": "python",
   "nbconvert_exporter": "python",
   "pygments_lexer": "ipython3",
   "version": "3.11.5"
  }
 },
 "nbformat": 4,
 "nbformat_minor": 5
}
