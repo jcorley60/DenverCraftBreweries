{
 "cells": [
  {
   "cell_type": "markdown",
   "id": "3672755a",
   "metadata": {},
   "source": [
    "# Census Blocks & Tracts\n",
    "Census Block Groups are smaller and more detailed geographic units within Census Tracts, designed to capture localized population characteristics, while Census Tracts are larger, more stable units used for a broader range of demographic and socioeconomic analyses. Both are important tools for understanding and studying population and communities within the United States.\n",
    "* Block Groups are the smallest units\n",
    "* American Community Survey (ACS) - 5-year (as opposed to 1-year) will capture [demographic] information down to the `Block Group` level\n",
    "* Places are comprised of Block Groups as are survey tracts"
   ]
  },
  {
   "cell_type": "code",
   "execution_count": null,
   "id": "0bd8c769",
   "metadata": {},
   "outputs": [],
   "source": [
    "def get_brewery_project_data_directory():\n",
    "    \"\"\"#TODO: Change directory listed below to new working directory location.\"\"\"\n",
    "    os.chdir('/home/jcorley60/Documents/project_portfolio/DenverBreweries/data')\n",
    "    return os.getcwd()"
   ]
  },
  {
   "cell_type": "markdown",
   "id": "0ecaca62",
   "metadata": {},
   "source": [
    "## Census `Tracts`\n",
    "* https://www.census.gov/geographies/mapping-files/time-series/geo/cartographic-boundary.2022.html#list-tab-1883739534\n",
    "* dataset consists of Colorado tracts"
   ]
  },
  {
   "cell_type": "code",
   "execution_count": null,
   "id": "ee681a3e",
   "metadata": {},
   "outputs": [],
   "source": [
    "get_brewery_data_directory()\n",
    "os.chdir('cb_2022_08_tract_500k/')\n",
    "os.getcwd()"
   ]
  },
  {
   "cell_type": "code",
   "execution_count": null,
   "id": "068a6e10",
   "metadata": {},
   "outputs": [],
   "source": [
    "gdf_tracts = gpd.read_file('cb_2022_08_tract_500k.shp')\n",
    "gdf_tracts.head()"
   ]
  },
  {
   "cell_type": "code",
   "execution_count": null,
   "id": "aeafeb09",
   "metadata": {},
   "outputs": [],
   "source": [
    "# gdf['geometry'].plot(cmap='Blues');\n",
    "gdf_tracts['geometry'].plot();\n",
    "plt.title('Census Tracts - Colorado 2022');\n",
    "plt.xlabel('Longitude');\n",
    "plt.ylabel('Latitude');"
   ]
  },
  {
   "cell_type": "code",
   "execution_count": null,
   "id": "e26f9053",
   "metadata": {},
   "outputs": [],
   "source": [
    "print(gdf_tracts[gdf_tracts['NAMELSADCO']=='Jefferson County'].shape)\n",
    "\n",
    "# gdf_tracts[gdf_tracts['NAMELSADCO'] == 'Jefferson County'].plot(cmap='Greens_r');\n",
    "gdf_tracts[gdf_tracts['NAMELSADCO'] == 'Jefferson County'].plot();\n",
    "plt.title('Jefferson\\nCounty');\n",
    "plt.xlabel('Longitude');\n",
    "plt.ylabel('Latitude');"
   ]
  },
  {
   "cell_type": "markdown",
   "id": "93302352",
   "metadata": {},
   "source": [
    "## Census `Block Groups`\n",
    "* https://www.census.gov/geographies/mapping-files/time-series/geo/cartographic-boundary.2022.html#list-tab-1883739534\n",
    "* dataset consists of Colorado block groups\n",
    "* Census Bock Groups comprise a subset of Census Tracts\n",
    "* mapping: **tract.TRACTCE <--> bg.TRACTCE**"
   ]
  },
  {
   "cell_type": "code",
   "execution_count": null,
   "id": "0e3eb524",
   "metadata": {},
   "outputs": [],
   "source": [
    "get_brewery_data_directory()\n",
    "os.chdir('cb_2022_08_bg_500k/')\n",
    "os.getcwd()"
   ]
  },
  {
   "cell_type": "code",
   "execution_count": null,
   "id": "7e5a73e9",
   "metadata": {},
   "outputs": [],
   "source": [
    "gdf_blocks = gpd.read_file('cb_2022_08_bg_500k.shp')\n",
    "gdf_blocks.head()"
   ]
  },
  {
   "cell_type": "code",
   "execution_count": null,
   "id": "097e6791",
   "metadata": {},
   "outputs": [],
   "source": [
    "gdf_blocks['geometry'].plot();\n",
    "plt.title('Census Block Groups - Colorado 2022');\n",
    "plt.xlabel('Longitude');\n",
    "plt.ylabel('Latitude');"
   ]
  },
  {
   "cell_type": "code",
   "execution_count": null,
   "id": "667a37e2",
   "metadata": {},
   "outputs": [],
   "source": [
    "print(gdf_blocks[gdf_blocks['COUNTYFP'] == '059'].shape)\n",
    "gdf_blocks[gdf_blocks['COUNTYFP'] == '059'].plot();\n",
    "plt.title('Jefferson\\nCounty\\nBlock Groups');\n",
    "plt.xlabel('Longitude');\n",
    "plt.ylabel('Latitude');"
   ]
  },
  {
   "cell_type": "markdown",
   "id": "db410b1c",
   "metadata": {},
   "source": [
    "### unsd\n",
    "* https://www2.census.gov/geo/tiger/TIGER_RD18/STATE/08_COLORADO/08/\n",
    "* unified school district (UNSD)"
   ]
  },
  {
   "cell_type": "code",
   "execution_count": null,
   "id": "edc27bd0",
   "metadata": {},
   "outputs": [],
   "source": [
    "get_brewery_project_data_directory()\n",
    "os.chdir('tl_rd22_08_unsd/')\n",
    "os.getcwd()"
   ]
  },
  {
   "cell_type": "code",
   "execution_count": null,
   "id": "a5927054",
   "metadata": {},
   "outputs": [],
   "source": [
    "gdf_school = gpd.read_file('tl_rd22_08_unsd.shp')\n",
    "gdf_school.head()"
   ]
  },
  {
   "cell_type": "code",
   "execution_count": null,
   "id": "e8bc61ca",
   "metadata": {},
   "outputs": [],
   "source": [
    "gdf_school[gdf_school['NAME'].str.contains('Jefferson')].plot();"
   ]
  },
  {
   "cell_type": "markdown",
   "id": "af20c2fe",
   "metadata": {},
   "source": [
    "### sldu\n",
    "* https://www2.census.gov/geo/tiger/TIGER_RD18/STATE/08_COLORADO/08/\n",
    "* State Senate Districts"
   ]
  },
  {
   "cell_type": "code",
   "execution_count": null,
   "id": "fceea158",
   "metadata": {},
   "outputs": [],
   "source": [
    "get_brewery_project_data_directory()\n",
    "os.chdir('tl_rd22_08_sldu/')\n",
    "os.getcwd()"
   ]
  },
  {
   "cell_type": "code",
   "execution_count": null,
   "id": "e7a4a4a5",
   "metadata": {},
   "outputs": [],
   "source": [
    "gpd.read_file('tl_rd22_08_sldu.shp').plot();"
   ]
  },
  {
   "cell_type": "markdown",
   "id": "3f9b99db",
   "metadata": {},
   "source": [
    "### sldl\n",
    "* https://www2.census.gov/geo/tiger/TIGER_RD18/STATE/08_COLORADO/08/\n",
    "* Colorado State House Districts"
   ]
  },
  {
   "cell_type": "code",
   "execution_count": null,
   "id": "ad506b3d",
   "metadata": {},
   "outputs": [],
   "source": [
    "get_brewery_project_data_directory()\n",
    "os.chdir('tl_rd22_08_sldl/')\n",
    "os.getcwd()"
   ]
  },
  {
   "cell_type": "code",
   "execution_count": null,
   "id": "3e1e8adc",
   "metadata": {},
   "outputs": [],
   "source": [
    "gpd.read_file('tl_rd22_08_sldl.shp')"
   ]
  },
  {
   "cell_type": "code",
   "execution_count": null,
   "id": "a967e9c2",
   "metadata": {},
   "outputs": [],
   "source": []
  },
  {
   "cell_type": "code",
   "execution_count": null,
   "id": "13662bba",
   "metadata": {},
   "outputs": [],
   "source": []
  },
  {
   "cell_type": "code",
   "execution_count": null,
   "id": "7d6b7343",
   "metadata": {},
   "outputs": [],
   "source": []
  }
 ],
 "metadata": {
  "kernelspec": {
   "display_name": "Python 3 (ipykernel)",
   "language": "python",
   "name": "python3"
  },
  "language_info": {
   "codemirror_mode": {
    "name": "ipython",
    "version": 3
   },
   "file_extension": ".py",
   "mimetype": "text/x-python",
   "name": "python",
   "nbconvert_exporter": "python",
   "pygments_lexer": "ipython3",
   "version": "3.11.3"
  }
 },
 "nbformat": 4,
 "nbformat_minor": 5
}
